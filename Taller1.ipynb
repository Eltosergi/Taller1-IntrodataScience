{
 "cells": [
  {
   "cell_type": "markdown",
   "metadata": {},
   "source": [
    "1. Web Scraping [20 puntos]:\n",
    "- U@lizar técnicas de Web Scraping para extraer información de al menos 500 bebidas alcohólicas del\n",
    "si@o web hGps://dis@ller.com/search.\n",
    "- Los datos a obtener para cada bebida están definidos por las siguientes columnas que se pueden\n",
    "extraer de la página asociada a la bebida:\n",
    "columns=['Name', 'Type', 'Cask', 'Location', 'Age', 'ABV %', 'Cost',\n",
    "'Badge', '# Ratings', \"Community Rating\", 'Flavor Summary', 'Expert',\n",
    "'Expert Score', 'Smoky', 'Earthy', 'Spicy', 'Herbal', 'Oily', 'Bitter',\n",
    "'Rich', 'Sweet', 'Mineral', 'Salty', 'Umami', 'Tart', 'Fruity',\n",
    "'Floral', 'Review'])\n",
    "- Almacenar los datos obtenidos en un DataFrame de Pandas. Los datos deberían verse como en la\n",
    "Figura 2 (aproximadamente).\n",
    "Figura 2. Ejemplo de la planilla de datos obtenida con Web Scraping."
   ]
  },
  {
   "cell_type": "code",
   "execution_count": 5,
   "metadata": {},
   "outputs": [
    {
     "name": "stdout",
     "output_type": "stream",
     "text": [
      "No more pages or an error occurred\n",
      "Empty DataFrame\n",
      "Columns: []\n",
      "Index: []\n"
     ]
    }
   ],
   "source": [
    "from selenium import webdriver\n",
    "from selenium.webdriver.chrome.options import Options\n",
    "from bs4 import BeautifulSoup\n",
    "import pandas as pd\n",
    "import time\n",
    "\n",
    "# Configuración de Selenium con Chromium en modo headless\n",
    "options = Options()\n",
    "options.add_argument(\"--headless=new\")  # Para correr en segundo plano\n",
    "\n",
    "driver = webdriver.Chrome(options=options)\n",
    "\n",
    "# Navegamos a la página\n",
    "url = 'https://distiller.com/search'\n",
    "driver.get(url)\n",
    "\n",
    "# Esperar un poco para asegurarse de que la página haya cargado completamente xd\n",
    "time.sleep(25)\n",
    "\n",
    "# Inicializamos una lista para almacenar los datos\n",
    "data = []\n",
    "\n",
    "# Ejemplo de función para extraer información de una página de resultados\n",
    "def extract_data(page_source):\n",
    "    soup = BeautifulSoup(page_source, 'html.parser')\n",
    "    \n",
    "    # Encontramos todas las tarjetas de bebidas en la página\n",
    "    drinks = soup.find_all('ol', class_='spirits')\n",
    "    \n",
    "    for drink in drinks:\n",
    "        name = drink.find('h2').text.strip() if drink.find('h2') else 'N/A'\n",
    "        # Aquí puedes continuar extrayendo los demás campos según el formato\n",
    "        # Por ejemplo, el tipo, la ubicación, y otros detalles que necesites.\n",
    "        \n",
    "        # Agregamos los datos a la lista\n",
    "        data.append({\n",
    "            'Name': name,\n",
    "            # Agregar aquí otros campos que encuentres\n",
    "        })\n",
    "\n",
    "# Extraemos los datos de la primera página\n",
    "extract_data(driver.page_source)\n",
    "\n",
    "# Ejemplo de cómo avanzar a la siguiente página, si hay varias\n",
    "while True:\n",
    "    try:\n",
    "        # Intentar encontrar el botón de \"siguiente\" y hacer clic\n",
    "        next_button = driver.find_element_by_css_selector('a.next-page')\n",
    "        next_button.click()\n",
    "        \n",
    "        # Esperar que la nueva página cargue\n",
    "        time.sleep(3)\n",
    "        \n",
    "        # Extraer datos de la nueva página\n",
    "        extract_data(driver.page_source)\n",
    "        \n",
    "    except:\n",
    "        # Si no hay más páginas o hay un error, salimos del loop\n",
    "        print(\"No more pages or an error occurred\")\n",
    "        break\n",
    "\n",
    "# Cerramos el navegador\n",
    "driver.quit()\n",
    "\n",
    "# Convertimos los datos a un DataFrame de Pandas\n",
    "df = pd.DataFrame(data)\n",
    "\n",
    "# Guardamos los datos en un archivo CSV o mostramos el DataFrame\n",
    "df.to_csv('distiller.csv', index=False)\n",
    "print(df.head())\n",
    "\n"
   ]
  },
  {
   "cell_type": "markdown",
   "metadata": {},
   "source": [
    "2. Preprocesamiento de datos [20 puntos]:\n",
    "- Realizar una exploración inicial de los datos obtenidos mediante estadís@cas básicas y visualización\n",
    "de cada variable relevante, iden@ficando posibles valores faltantes, outliers o inconsistencias.\n",
    "- Aplicar técnicas de preprocesamiento según sea necesario.\n",
    "- Dividir los datos en conjuntos de entrenamiento y prueba, con una proporción 80/20 o 70/30 según\n",
    "sea necesario/convenient."
   ]
  },
  {
   "cell_type": "code",
   "execution_count": null,
   "metadata": {
    "vscode": {
     "languageId": "plaintext"
    }
   },
   "outputs": [],
   "source": []
  },
  {
   "cell_type": "markdown",
   "metadata": {},
   "source": [
    "3. Regresión Lineal [20 puntos]:\n",
    "- Entrenar un modelo de Regresión Lineal u@lizando las variables predictoras seleccionadas para\n",
    "predecir el ra@ng de las bebidas.\n",
    "- Evaluar el rendimiento del modelo u@lizando métricas como el Mean Squared Error (MSE) y el\n",
    "coeficiente de determinación (�!).\n",
    "- Interpretar los coeficientes obtenidos y su significado en el contexto del problema.\n",
    "- Evaluar los resultados del modelo desde una perspec@va probabilís@ca"
   ]
  },
  {
   "cell_type": "code",
   "execution_count": null,
   "metadata": {
    "vscode": {
     "languageId": "plaintext"
    }
   },
   "outputs": [],
   "source": []
  },
  {
   "cell_type": "markdown",
   "metadata": {},
   "source": [
    "4. Clasificación [15 puntos]:\n",
    "- E@quetar los ra@ngs como posi@vos (por encima de 3.5), neutrales (entre 2.5 y 3.5), y nega@vos\n",
    "(por debajo de 2.5), asegurando que las clases estén balanceadas o u@lizando técnicas de\n",
    "resampling.\n",
    "- Entrenar los mismos modelos de clasificación u@lizados en la sección binaria (Regresión Logís@ca,\n",
    "kNN, SVM, Naive Bayes, Árboles de Decisión, Random Forests), ajustados para clasificación\n",
    "mul@clase.\n",
    "- U@lizar validación cruzada para op@mizar hiperparámetros.\n",
    "- Reportar las matrices de confusión para evaluar el rendimiento en cada clase. Evaluar las métricas\n",
    "de accuracy, precision, recall y F1-Score.\n",
    "- Comparar los resultados de los modelos binarios con los modelos mul@clase."
   ]
  },
  {
   "cell_type": "code",
   "execution_count": null,
   "metadata": {
    "vscode": {
     "languageId": "plaintext"
    }
   },
   "outputs": [],
   "source": []
  },
  {
   "cell_type": "markdown",
   "metadata": {},
   "source": [
    "5. Op@mización de hiperparámetros [15 puntos]:\n",
    "- Aplicar técnicas de op@mización de hiperparámetros (e.g., Grid Search, Random Search) para\n",
    "encontrar los valores óp@mos de los hiperparámetros de los modelos LASSO y Ridge.\n",
    "- Evaluar el rendimiento de los modelos con los hiperparámetros op@mizados y comparar con los\n",
    "resultados anteriores."
   ]
  },
  {
   "cell_type": "code",
   "execution_count": null,
   "metadata": {
    "vscode": {
     "languageId": "plaintext"
    }
   },
   "outputs": [],
   "source": []
  },
  {
   "cell_type": "markdown",
   "metadata": {},
   "source": [
    "6. Conclusiones [10 puntos]:\n",
    "- Presentar conclusiones relevantes sobre los resultados y el trabajo realizado.\n",
    "- Discu@r las ventajas y desventajas de cada modelo u@lizado, y su aplicabilidad en el contexto de\n",
    "predicción de ra@ngs de bebidas alcohólicas.\n",
    "- Proponer posibles mejoras o extensiones al análisis realizado"
   ]
  },
  {
   "cell_type": "code",
   "execution_count": null,
   "metadata": {
    "vscode": {
     "languageId": "plaintext"
    }
   },
   "outputs": [],
   "source": []
  },
  {
   "cell_type": "markdown",
   "metadata": {},
   "source": [
    "7. Crédito Extra: Regresión kNN [10 puntos]\n",
    "- Entrenar un modelo de regresión kNN, incluyendo el proceso de op@mización del hiperparámetro\n",
    "k u@lizando 5-fold cross valida@on.\n",
    "- Comparar los resultados del modelo kNN con los resultados anteriores."
   ]
  },
  {
   "cell_type": "code",
   "execution_count": null,
   "metadata": {
    "vscode": {
     "languageId": "plaintext"
    }
   },
   "outputs": [],
   "source": []
  },
  {
   "cell_type": "markdown",
   "metadata": {},
   "source": [
    "8. Crédito Extra: Regresión No Lineal [10 puntos]\n",
    "- Evaluar modelos de Regresión No Lineal (polinómica u otras variantes), incluyendo el proceso de\n",
    "op@mización de hiperparámetros u@lizando 5-fold cross valida@on.\n",
    "- Comparar los resultados del no lineal con los resultados anteriores."
   ]
  }
 ],
 "metadata": {
  "language_info": {
   "name": "python"
  }
 },
 "nbformat": 4,
 "nbformat_minor": 2
}
